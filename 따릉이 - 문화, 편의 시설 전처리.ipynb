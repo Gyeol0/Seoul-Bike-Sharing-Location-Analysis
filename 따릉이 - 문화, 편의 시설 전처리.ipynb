{
 "cells": [
  {
   "cell_type": "code",
   "execution_count": 1,
   "metadata": {},
   "outputs": [],
   "source": [
    "import pandas as pd\n",
    "import os\n",
    "os.chdir('C:/Users/user/Desktop/서울시청/데이터/버스정류장관련')"
   ]
  },
  {
   "cell_type": "code",
   "execution_count": 5,
   "metadata": {},
   "outputs": [],
   "source": [
    "sisul=pd.read_csv('상권정보.csv',encoding='cp949',index_col=0)"
   ]
  },
  {
   "cell_type": "code",
   "execution_count": 6,
   "metadata": {},
   "outputs": [
    {
     "data": {
      "text/html": [
       "<div>\n",
       "<style scoped>\n",
       "    .dataframe tbody tr th:only-of-type {\n",
       "        vertical-align: middle;\n",
       "    }\n",
       "\n",
       "    .dataframe tbody tr th {\n",
       "        vertical-align: top;\n",
       "    }\n",
       "\n",
       "    .dataframe thead th {\n",
       "        text-align: right;\n",
       "    }\n",
       "</style>\n",
       "<table border=\"1\" class=\"dataframe\">\n",
       "  <thead>\n",
       "    <tr style=\"text-align: right;\">\n",
       "      <th></th>\n",
       "      <th>상가업소번호</th>\n",
       "      <th>상호명</th>\n",
       "      <th>상권업종소분류명</th>\n",
       "      <th>경도</th>\n",
       "      <th>위도</th>\n",
       "    </tr>\n",
       "  </thead>\n",
       "  <tbody>\n",
       "    <tr>\n",
       "      <th>0</th>\n",
       "      <td>19964615</td>\n",
       "      <td>석봉토스트</td>\n",
       "      <td>토스트전문</td>\n",
       "      <td>127.088387</td>\n",
       "      <td>37.549245</td>\n",
       "    </tr>\n",
       "    <tr>\n",
       "      <th>1</th>\n",
       "      <td>19977290</td>\n",
       "      <td>피자마루</td>\n",
       "      <td>피자전문</td>\n",
       "      <td>127.010861</td>\n",
       "      <td>37.552153</td>\n",
       "    </tr>\n",
       "    <tr>\n",
       "      <th>2</th>\n",
       "      <td>19979960</td>\n",
       "      <td>홍능갈비</td>\n",
       "      <td>갈비/삼겹살</td>\n",
       "      <td>126.836078</td>\n",
       "      <td>37.538927</td>\n",
       "    </tr>\n",
       "    <tr>\n",
       "      <th>3</th>\n",
       "      <td>19983535</td>\n",
       "      <td>초밥왕</td>\n",
       "      <td>음식점-초밥전문</td>\n",
       "      <td>127.102490</td>\n",
       "      <td>37.515149</td>\n",
       "    </tr>\n",
       "    <tr>\n",
       "      <th>4</th>\n",
       "      <td>19969945</td>\n",
       "      <td>에브리돈</td>\n",
       "      <td>한식/백반/한정식</td>\n",
       "      <td>126.910288</td>\n",
       "      <td>37.579029</td>\n",
       "    </tr>\n",
       "  </tbody>\n",
       "</table>\n",
       "</div>"
      ],
      "text/plain": [
       "     상가업소번호    상호명   상권업종소분류명          경도         위도\n",
       "0  19964615  석봉토스트      토스트전문  127.088387  37.549245\n",
       "1  19977290   피자마루       피자전문  127.010861  37.552153\n",
       "2  19979960   홍능갈비     갈비/삼겹살  126.836078  37.538927\n",
       "3  19983535    초밥왕   음식점-초밥전문  127.102490  37.515149\n",
       "4  19969945   에브리돈  한식/백반/한정식  126.910288  37.579029"
      ]
     },
     "execution_count": 6,
     "metadata": {},
     "output_type": "execute_result"
    }
   ],
   "source": [
    "sisul.head()"
   ]
  },
  {
   "cell_type": "markdown",
   "metadata": {},
   "source": [
    "## 문화, 편의시설 csv 저장"
   ]
  },
  {
   "cell_type": "code",
   "execution_count": 9,
   "metadata": {},
   "outputs": [],
   "source": [
    "sports_l=['기타실내운동시설','롤러스케이트장','수영장','스케이트장', '스쿼시장','스포츠센터','실내수영장',\n",
    "'실내스케이트장','실내야구연습장','실내테니스장', '실외야구연습장','유도장','이종격투기', '인공암벽',\n",
    "'체육관','킥복싱','태권도장','탁구장','합기도장','헬스클럽']\n",
    "\n",
    "adult_l=['관광/유흥주점','극장식유흥주점','기타일반유흥주점','나이트클럽','룸살롱/단란주점','무도유흥주점-종합',\n",
    "'빠/카페/스탠드빠', '소주방/포장마차','호프/맥주']\n",
    "\n",
    "study_l=['도서관','독서실','컴퓨터학원','학원(종합)','학원-TV기술','학원-가요','학원-간판디자인','학원-간호조무사','학원-건축토목기술','학원-검정고시','학원-경리',\n",
    "'학원-경영','학원-경찰','학원-공예','학원-공인중개사','학원-관광통역','학원-광고디자인','학원-국가고시','학원-국악','학원-기계/금형기술','학원-기억법','학원-기타','학원-꽃꽃이','학원-냉동열관리','학원-네일아트','학원-도배','학원-동물사육',\n",
    "'학원-디자인','학원-레크리에이션','학원-마술','학원-만화영화','학원-말더듬','학원-목공예','학원-목욕관리사','학원-무용','학원-미싱자수','학원-미용','학원-바둑','학원-배우/탤런트','학원-보석감정', '학원-복장','학원-분장',\n",
    "'학원-비디오','학원-사교춤','학원-사진','학원-서당','학원-섬유기술','학원-세탁기술','학원-속기','학원-속독','학원-스튜디어스','학원-스포츠/재즈댄스','학원-실내운전','학원-심리변론','학원-아트플라워','학원-애견미용',\n",
    "'학원-양재','학원-에어로빅','학원-역학','학원-외국어/어학','학원-요리','학원-웅변','학원-이용','학원-입시','학원-자동차운전','학원-자동차정비','학원-자수/동양자수','학원-전기기술','학원-전자통신','학원-제과기술',\n",
    "'학원-주산암산부기속셈','학원-중장비','학원-지점토','학원-침술','학원-칵테일','학원-캐드','학원-텔렉스/통신','학원-펜글씨/한문','학원-편물기술','학원-편입','학원-피부미용','학원-한복기술','학원-항공기술','학원-환경기사','학원/국가고시']\n",
    "\n",
    "market_l=['수퍼마켓','식료품점','식자재판매','편의점']\n",
    "\n",
    "game_l=['게임룸', '기타오락관련산업','노래방','당구장','도서/만화대여','보드게임카페','볼링장','비디오/오디오테이프대여','비디오감상실',\n",
    "'서바이벌게임장','오락용사격장','인터넷PC방','전자오락실']\n",
    "\n",
    "house_l=['모텔/여관/여인숙','목욕업-찜질방','민박/하숙','사우나/증기탕/온천']\n",
    "\n",
    "culture_l=['공연티켓예매','무도장','백화점', '서점','아케이드/쇼핑센타','연극/음악/예술관련기타','영화관']\n",
    "\n",
    "hell_l=['고시원','공학연구소','생명과학연구소']\n",
    "\n",
    "parking_l=['주차장운영']"
   ]
  },
  {
   "cell_type": "code",
   "execution_count": 13,
   "metadata": {},
   "outputs": [],
   "source": [
    "sports=sisul[sisul.상권업종소분류명.apply(lambda x: x in sports_l)]\n",
    "adult=sisul[sisul.상권업종소분류명.apply(lambda x: x in adult_l)]\n",
    "study=sisul[sisul.상권업종소분류명.apply(lambda x: x in study_l)]\n",
    "market=sisul[sisul.상권업종소분류명.apply(lambda x: x in market_l)]\n",
    "game=sisul[sisul.상권업종소분류명.apply(lambda x: x in game_l)]\n",
    "house=sisul[sisul.상권업종소분류명.apply(lambda x: x in house_l)]\n",
    "culture=sisul[sisul.상권업종소분류명.apply(lambda x: x in culture_l)]\n",
    "hell=sisul[sisul.상권업종소분류명.apply(lambda x: x in hell_l)]\n",
    "parking=sisul[sisul.상권업종소분류명.apply(lambda x: x in parking_l)]"
   ]
  },
  {
   "cell_type": "code",
   "execution_count": 17,
   "metadata": {},
   "outputs": [],
   "source": [
    "sports.to_csv('스포츠센터.csv',encoding='cp949')\n",
    "adult.to_csv('유흥업소.csv',encoding='cp949')\n",
    "study.to_csv('학업시설.csv',encoding='cp949')\n",
    "market.to_csv('편의점,마켓.csv',encoding='cp949')\n",
    "game.to_csv('오락시설.csv',encoding='cp949')\n",
    "house.to_csv('숙박 시설.csv',encoding='cp949')\n",
    "culture.to_csv('문화,쇼핑.csv',encoding='cp949')\n",
    "hell.to_csv('지옥.csv',encoding='cp949')\n",
    "parking.to_csv('주차장.csv',encoding='cp949')"
   ]
  },
  {
   "cell_type": "code",
   "execution_count": null,
   "metadata": {},
   "outputs": [],
   "source": []
  }
 ],
 "metadata": {
  "kernelspec": {
   "display_name": "Python 3",
   "language": "python",
   "name": "python3"
  },
  "language_info": {
   "codemirror_mode": {
    "name": "ipython",
    "version": 3
   },
   "file_extension": ".py",
   "mimetype": "text/x-python",
   "name": "python",
   "nbconvert_exporter": "python",
   "pygments_lexer": "ipython3",
   "version": "3.8.3"
  }
 },
 "nbformat": 4,
 "nbformat_minor": 4
}
