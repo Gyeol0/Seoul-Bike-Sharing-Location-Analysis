{
 "cells": [
  {
   "cell_type": "code",
   "execution_count": 1,
   "metadata": {},
   "outputs": [],
   "source": [
    "import pandas as pd\n",
    "import numpy as np\n",
    "import os\n",
    "import warnings\n",
    "import matplotlib as mpl\n",
    "import seaborn as sns\n",
    "import matplotlib.pyplot as plt\n",
    "import datetime\n",
    "import copy\n",
    "import geopandas as gpd  # Import geopandas\n",
    "import fiona #공간데이터를 딕셔너리 형태 등으로 접근할 수 있는 라이브러리\n",
    "import pyproj\n",
    "from fiona.crs import from_epsg\n",
    "from scipy import stats\n",
    "from sklearn.model_selection import train_test_split\n",
    "\n",
    "\n",
    "os.chdir('C:/Users/user/Desktop/서울시청/데이터')\n",
    "# 폰트 설정\n",
    "mpl.rc('font', family=' Malgun Gothic')\n",
    "# 유니코드에서  음수 부호설정\n",
    "mpl.rc('axes', unicode_minus=False)\n",
    "\n",
    "warnings.filterwarnings('ignore')"
   ]
  },
  {
   "cell_type": "markdown",
   "metadata": {},
   "source": [
    "# 4월 이전 대여소 전처리"
   ]
  },
  {
   "cell_type": "code",
   "execution_count": 2,
   "metadata": {},
   "outputs": [],
   "source": [
    "place=pd.read_csv('공공자전거 대여소 정보(20.07.13 기준).csv',encoding='cp949')"
   ]
  },
  {
   "cell_type": "code",
   "execution_count": 3,
   "metadata": {},
   "outputs": [
    {
     "data": {
      "text/html": [
       "<div>\n",
       "<style scoped>\n",
       "    .dataframe tbody tr th:only-of-type {\n",
       "        vertical-align: middle;\n",
       "    }\n",
       "\n",
       "    .dataframe tbody tr th {\n",
       "        vertical-align: top;\n",
       "    }\n",
       "\n",
       "    .dataframe thead th {\n",
       "        text-align: right;\n",
       "    }\n",
       "</style>\n",
       "<table border=\"1\" class=\"dataframe\">\n",
       "  <thead>\n",
       "    <tr style=\"text-align: right;\">\n",
       "      <th></th>\n",
       "      <th>대여소번호</th>\n",
       "      <th>보관소(대여소)명</th>\n",
       "      <th>자치구</th>\n",
       "      <th>상세주소</th>\n",
       "      <th>위도</th>\n",
       "      <th>경도</th>\n",
       "      <th>설치시기</th>\n",
       "      <th>LCD(거치대수)</th>\n",
       "      <th>QR(거치대수)</th>\n",
       "      <th>운영방식</th>\n",
       "    </tr>\n",
       "  </thead>\n",
       "  <tbody>\n",
       "    <tr>\n",
       "      <th>0</th>\n",
       "      <td>1695</td>\n",
       "      <td>월계미륭아파트 정문</td>\n",
       "      <td>노원구</td>\n",
       "      <td>노원구 월계동 14</td>\n",
       "      <td>37.623417</td>\n",
       "      <td>127.066933</td>\n",
       "      <td>2020-06-17</td>\n",
       "      <td>NaN</td>\n",
       "      <td>10.0</td>\n",
       "      <td>QR</td>\n",
       "    </tr>\n",
       "    <tr>\n",
       "      <th>1</th>\n",
       "      <td>2301</td>\n",
       "      <td>현대고등학교 건너편</td>\n",
       "      <td>강남구</td>\n",
       "      <td>서울특별시 강남구 압구정로 134</td>\n",
       "      <td>37.524071</td>\n",
       "      <td>127.021790</td>\n",
       "      <td>2017-06-13</td>\n",
       "      <td>10.0</td>\n",
       "      <td>NaN</td>\n",
       "      <td>LCD</td>\n",
       "    </tr>\n",
       "    <tr>\n",
       "      <th>2</th>\n",
       "      <td>2302</td>\n",
       "      <td>교보타워 버스정류장(신논현역 3번출구 후면)</td>\n",
       "      <td>강남구</td>\n",
       "      <td>서울특별시 강남구 봉은사로 지하 102</td>\n",
       "      <td>37.505581</td>\n",
       "      <td>127.024277</td>\n",
       "      <td>2017-06-13</td>\n",
       "      <td>10.0</td>\n",
       "      <td>NaN</td>\n",
       "      <td>LCD</td>\n",
       "    </tr>\n",
       "    <tr>\n",
       "      <th>3</th>\n",
       "      <td>2303</td>\n",
       "      <td>논현역 7번출구</td>\n",
       "      <td>강남구</td>\n",
       "      <td>서울특별시 강남구 학동로 지하 102</td>\n",
       "      <td>37.511517</td>\n",
       "      <td>127.021477</td>\n",
       "      <td>2017-06-13</td>\n",
       "      <td>15.0</td>\n",
       "      <td>NaN</td>\n",
       "      <td>LCD</td>\n",
       "    </tr>\n",
       "    <tr>\n",
       "      <th>4</th>\n",
       "      <td>2304</td>\n",
       "      <td>신영 ROYAL PALACE 앞</td>\n",
       "      <td>강남구</td>\n",
       "      <td>서울특별시 강남구 언주로 626</td>\n",
       "      <td>37.512527</td>\n",
       "      <td>127.035835</td>\n",
       "      <td>2017-06-13</td>\n",
       "      <td>10.0</td>\n",
       "      <td>NaN</td>\n",
       "      <td>LCD</td>\n",
       "    </tr>\n",
       "  </tbody>\n",
       "</table>\n",
       "</div>"
      ],
      "text/plain": [
       "   대여소번호                 보관소(대여소)명  자치구                   상세주소         위도  \\\n",
       "0   1695                월계미륭아파트 정문  노원구            노원구 월계동 14   37.623417   \n",
       "1   2301                현대고등학교 건너편  강남구     서울특별시 강남구 압구정로 134  37.524071   \n",
       "2   2302  교보타워 버스정류장(신논현역 3번출구 후면)  강남구  서울특별시 강남구 봉은사로 지하 102  37.505581   \n",
       "3   2303                  논현역 7번출구  강남구   서울특별시 강남구 학동로 지하 102  37.511517   \n",
       "4   2304         신영 ROYAL PALACE 앞  강남구      서울특별시 강남구 언주로 626  37.512527   \n",
       "\n",
       "           경도        설치시기  LCD(거치대수)  QR(거치대수) 운영방식  \n",
       "0  127.066933  2020-06-17        NaN      10.0   QR  \n",
       "1  127.021790  2017-06-13       10.0       NaN  LCD  \n",
       "2  127.024277  2017-06-13       10.0       NaN  LCD  \n",
       "3  127.021477  2017-06-13       15.0       NaN  LCD  \n",
       "4  127.035835  2017-06-13       10.0       NaN  LCD  "
      ]
     },
     "execution_count": 3,
     "metadata": {},
     "output_type": "execute_result"
    }
   ],
   "source": [
    "place.head()"
   ]
  },
  {
   "cell_type": "code",
   "execution_count": 4,
   "metadata": {},
   "outputs": [
    {
     "data": {
      "text/plain": [
       "대여소번호          int64\n",
       "보관소(대여소)명     object\n",
       "자치구           object\n",
       "상세주소          object\n",
       "위도           float64\n",
       "경도           float64\n",
       "설치시기          object\n",
       "LCD(거치대수)    float64\n",
       "QR(거치대수)     float64\n",
       "운영방식          object\n",
       "dtype: object"
      ]
     },
     "execution_count": 4,
     "metadata": {},
     "output_type": "execute_result"
    }
   ],
   "source": [
    "place.dtypes"
   ]
  },
  {
   "cell_type": "code",
   "execution_count": 5,
   "metadata": {},
   "outputs": [],
   "source": [
    "place['설치시기']=place['설치시기'].apply(lambda x:datetime.datetime.strptime(x,'%Y-%m-%d'))"
   ]
  },
  {
   "cell_type": "code",
   "execution_count": 6,
   "metadata": {
    "scrolled": false
   },
   "outputs": [],
   "source": [
    "place_1=place[place['설치시기']<'2020-04-01']"
   ]
  },
  {
   "cell_type": "code",
   "execution_count": 7,
   "metadata": {},
   "outputs": [
    {
     "data": {
      "text/html": [
       "<div>\n",
       "<style scoped>\n",
       "    .dataframe tbody tr th:only-of-type {\n",
       "        vertical-align: middle;\n",
       "    }\n",
       "\n",
       "    .dataframe tbody tr th {\n",
       "        vertical-align: top;\n",
       "    }\n",
       "\n",
       "    .dataframe thead th {\n",
       "        text-align: right;\n",
       "    }\n",
       "</style>\n",
       "<table border=\"1\" class=\"dataframe\">\n",
       "  <thead>\n",
       "    <tr style=\"text-align: right;\">\n",
       "      <th></th>\n",
       "      <th>대여소번호</th>\n",
       "      <th>보관소(대여소)명</th>\n",
       "      <th>자치구</th>\n",
       "      <th>상세주소</th>\n",
       "      <th>위도</th>\n",
       "      <th>경도</th>\n",
       "      <th>설치시기</th>\n",
       "      <th>LCD(거치대수)</th>\n",
       "      <th>QR(거치대수)</th>\n",
       "      <th>운영방식</th>\n",
       "    </tr>\n",
       "  </thead>\n",
       "  <tbody>\n",
       "    <tr>\n",
       "      <th>1</th>\n",
       "      <td>2301</td>\n",
       "      <td>현대고등학교 건너편</td>\n",
       "      <td>강남구</td>\n",
       "      <td>서울특별시 강남구 압구정로 134</td>\n",
       "      <td>37.524071</td>\n",
       "      <td>127.021790</td>\n",
       "      <td>2017-06-13</td>\n",
       "      <td>10.0</td>\n",
       "      <td>NaN</td>\n",
       "      <td>LCD</td>\n",
       "    </tr>\n",
       "    <tr>\n",
       "      <th>2</th>\n",
       "      <td>2302</td>\n",
       "      <td>교보타워 버스정류장(신논현역 3번출구 후면)</td>\n",
       "      <td>강남구</td>\n",
       "      <td>서울특별시 강남구 봉은사로 지하 102</td>\n",
       "      <td>37.505581</td>\n",
       "      <td>127.024277</td>\n",
       "      <td>2017-06-13</td>\n",
       "      <td>10.0</td>\n",
       "      <td>NaN</td>\n",
       "      <td>LCD</td>\n",
       "    </tr>\n",
       "    <tr>\n",
       "      <th>3</th>\n",
       "      <td>2303</td>\n",
       "      <td>논현역 7번출구</td>\n",
       "      <td>강남구</td>\n",
       "      <td>서울특별시 강남구 학동로 지하 102</td>\n",
       "      <td>37.511517</td>\n",
       "      <td>127.021477</td>\n",
       "      <td>2017-06-13</td>\n",
       "      <td>15.0</td>\n",
       "      <td>NaN</td>\n",
       "      <td>LCD</td>\n",
       "    </tr>\n",
       "    <tr>\n",
       "      <th>4</th>\n",
       "      <td>2304</td>\n",
       "      <td>신영 ROYAL PALACE 앞</td>\n",
       "      <td>강남구</td>\n",
       "      <td>서울특별시 강남구 언주로 626</td>\n",
       "      <td>37.512527</td>\n",
       "      <td>127.035835</td>\n",
       "      <td>2017-06-13</td>\n",
       "      <td>10.0</td>\n",
       "      <td>NaN</td>\n",
       "      <td>LCD</td>\n",
       "    </tr>\n",
       "    <tr>\n",
       "      <th>5</th>\n",
       "      <td>2305</td>\n",
       "      <td>MCM 본사 직영점 앞</td>\n",
       "      <td>강남구</td>\n",
       "      <td>서울특별시 강남구 언주로 734</td>\n",
       "      <td>37.520641</td>\n",
       "      <td>127.034508</td>\n",
       "      <td>2017-06-13</td>\n",
       "      <td>10.0</td>\n",
       "      <td>NaN</td>\n",
       "      <td>LCD</td>\n",
       "    </tr>\n",
       "  </tbody>\n",
       "</table>\n",
       "</div>"
      ],
      "text/plain": [
       "   대여소번호                 보관소(대여소)명  자치구                   상세주소         위도  \\\n",
       "1   2301                현대고등학교 건너편  강남구     서울특별시 강남구 압구정로 134  37.524071   \n",
       "2   2302  교보타워 버스정류장(신논현역 3번출구 후면)  강남구  서울특별시 강남구 봉은사로 지하 102  37.505581   \n",
       "3   2303                  논현역 7번출구  강남구   서울특별시 강남구 학동로 지하 102  37.511517   \n",
       "4   2304         신영 ROYAL PALACE 앞  강남구      서울특별시 강남구 언주로 626  37.512527   \n",
       "5   2305              MCM 본사 직영점 앞  강남구      서울특별시 강남구 언주로 734  37.520641   \n",
       "\n",
       "           경도       설치시기  LCD(거치대수)  QR(거치대수) 운영방식  \n",
       "1  127.021790 2017-06-13       10.0       NaN  LCD  \n",
       "2  127.024277 2017-06-13       10.0       NaN  LCD  \n",
       "3  127.021477 2017-06-13       15.0       NaN  LCD  \n",
       "4  127.035835 2017-06-13       10.0       NaN  LCD  \n",
       "5  127.034508 2017-06-13       10.0       NaN  LCD  "
      ]
     },
     "execution_count": 7,
     "metadata": {},
     "output_type": "execute_result"
    }
   ],
   "source": [
    "place_1.head()"
   ]
  },
  {
   "cell_type": "code",
   "execution_count": 39,
   "metadata": {},
   "outputs": [],
   "source": [
    "place_1.to_csv('4월 이전 대여소.csv',encoding='cp949')"
   ]
  }
 ],
 "metadata": {
  "kernelspec": {
   "display_name": "Python 3",
   "language": "python",
   "name": "python3"
  },
  "language_info": {
   "codemirror_mode": {
    "name": "ipython",
    "version": 3
   },
   "file_extension": ".py",
   "mimetype": "text/x-python",
   "name": "python",
   "nbconvert_exporter": "python",
   "pygments_lexer": "ipython3",
   "version": "3.8.3"
  }
 },
 "nbformat": 4,
 "nbformat_minor": 4
}
